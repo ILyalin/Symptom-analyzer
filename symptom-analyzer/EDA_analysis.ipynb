{
 "cells": [
  {
   "cell_type": "markdown",
   "id": "a0c2f038-d993-408e-bfcb-fcddd08a9cde",
   "metadata": {},
   "source": [
    "# EDA анализ\n",
    "\n",
    "## Предварительный анализ данных"
   ]
  },
  {
   "cell_type": "code",
   "execution_count": 1,
   "id": "849c101e-4557-48b9-a544-cc093e593f3e",
   "metadata": {},
   "outputs": [],
   "source": [
    "import matplotlib.pyplot as plt\n",
    "import pandas as pd"
   ]
  },
  {
   "cell_type": "markdown",
   "id": "b4680468-e015-4c70-904f-dbc5c0db508a",
   "metadata": {},
   "source": [
    "***Анализ структуры датасета***"
   ]
  },
  {
   "cell_type": "code",
   "execution_count": 2,
   "id": "0467e324-aa1d-4562-a847-c9f174c2cb47",
   "metadata": {},
   "outputs": [
    {
     "name": "stdout",
     "output_type": "stream",
     "text": [
      "<class 'pandas.core.frame.DataFrame'>\n",
      "RangeIndex: 349 entries, 0 to 348\n",
      "Data columns (total 10 columns):\n",
      " #   Column                Non-Null Count  Dtype \n",
      "---  ------                --------------  ----- \n",
      " 0   Disease               349 non-null    object\n",
      " 1   Fever                 349 non-null    object\n",
      " 2   Cough                 349 non-null    object\n",
      " 3   Fatigue               349 non-null    object\n",
      " 4   Difficulty Breathing  349 non-null    object\n",
      " 5   Age                   349 non-null    int64 \n",
      " 6   Gender                349 non-null    object\n",
      " 7   Blood Pressure        349 non-null    object\n",
      " 8   Cholesterol Level     349 non-null    object\n",
      " 9   Outcome Variable      349 non-null    object\n",
      "dtypes: int64(1), object(9)\n",
      "memory usage: 27.4+ KB\n",
      "None\n"
     ]
    }
   ],
   "source": [
    "data = pd.read_csv('..//data//raw//Disease_symptom_and_patient_profile_dataset.csv')\n",
    "print(data.info())"
   ]
  },
  {
   "cell_type": "markdown",
   "id": "34e56798-af22-471d-bc38-6418acfff28d",
   "metadata": {},
   "source": [
    "***Скастим типы***"
   ]
  },
  {
   "cell_type": "code",
   "execution_count": 3,
   "id": "8d78a2e9-dc9d-4465-b2c8-9febc4ca3766",
   "metadata": {},
   "outputs": [],
   "source": [
    "data = data.astype({\n",
    "    \"Disease\": \"string\",\n",
    "    \"Fever\": \"string\",\n",
    "    \"Cough\": \"string\",\n",
    "    \"Fatigue\": \"string\",\n",
    "    \"Difficulty Breathing\": \"string\",\n",
    "    \"Age\": \"int64\",\n",
    "    \"Gender\": \"string\",\n",
    "    \"Blood Pressure\": \"string\",\n",
    "    \"Cholesterol Level\": \"string\",\n",
    "    \"Outcome Variable\": \"string\"\n",
    "})"
   ]
  },
  {
   "cell_type": "markdown",
   "id": "193c03b4-7950-454d-adff-4b3b07d57f71",
   "metadata": {},
   "source": [
    "***-Определим схему данных с типами и ограничениями  \n",
    "-Проверим корректность данных перед анализом  \n",
    "-Автоматизируем валидацию при обработке данных***"
   ]
  },
  {
   "cell_type": "code",
   "execution_count": 4,
   "id": "490740ae-f8ff-472e-8865-f0bf7fe16c25",
   "metadata": {},
   "outputs": [
    {
     "name": "stdout",
     "output_type": "stream",
     "text": [
      "✅ Данные успешно прошли валидацию!\n"
     ]
    }
   ],
   "source": [
    "import pandera as pa\n",
    "from pandera import Column, DataFrameSchema, Check\n",
    "schema = DataFrameSchema(\n",
    "    {\n",
    "        \"Disease\": Column(pa.String, nullable=False),\n",
    "        \"Fever\": Column(pa.String, checks=Check.isin([\"Yes\", \"No\"]), nullable=True),\n",
    "        \"Cough\": Column(pa.String, checks=Check.isin([\"Yes\", \"No\"]), nullable=True),\n",
    "        \"Fatigue\": Column(pa.String, checks=Check.isin([\"Yes\", \"No\"]), nullable=True),\n",
    "        \"Difficulty Breathing\": Column(pa.String, checks=Check.isin([\"Yes\", \"No\"]), nullable=True),\n",
    "        \"Age\": Column(pa.Int, checks=Check.greater_than(0), nullable=False),\n",
    "        \"Gender\": Column(pa.String, checks=Check.isin([\"Male\", \"Female\"]), nullable=True),\n",
    "        \"Blood Pressure\": Column(pa.String, checks=Check.isin([\"Low\", \"Normal\", \"High\"]), nullable=True),\n",
    "        \"Cholesterol Level\": Column(pa.String, checks=Check.isin([\"Low\", \"Normal\", \"High\"]), nullable=True),\n",
    "        \"Outcome Variable\": Column(pa.String, checks=Check.isin([\"Positive\", \"Negative\"]), nullable=False),\n",
    "    }\n",
    ")\n",
    "\n",
    "# Проверка и валидация данных\n",
    "def validate_data(df):\n",
    "    try:\n",
    "        validated_df = schema.validate(df)\n",
    "        print(\"✅ Данные успешно прошли валидацию!\")\n",
    "    except pa.errors.SchemaErrors as e:\n",
    "        print(\"❌ Ошибки в данных:\")\n",
    "        print(e.failure_cases)\n",
    "\n",
    "# Обнаружение ошибок и очистка данных\n",
    "def clean_data(df):\n",
    "    df = df.dropna()\n",
    "    df = df[df[\"Age\"] > 0]\n",
    "\n",
    "validate_data(data)\n",
    "clean_data(data)\n"
   ]
  },
  {
   "cell_type": "markdown",
   "id": "6a593987-12ef-43f3-a4b6-46b63ce410eb",
   "metadata": {},
   "source": [
    "***Приведем категориальные данные к числовому виду***\n"
   ]
  },
  {
   "cell_type": "code",
   "execution_count": 5,
   "id": "ff0e6cc0-e415-4dda-8dc1-332ba6d25057",
   "metadata": {},
   "outputs": [
    {
     "data": {
      "text/html": [
       "<div>\n",
       "<style scoped>\n",
       "    .dataframe tbody tr th:only-of-type {\n",
       "        vertical-align: middle;\n",
       "    }\n",
       "\n",
       "    .dataframe tbody tr th {\n",
       "        vertical-align: top;\n",
       "    }\n",
       "\n",
       "    .dataframe thead th {\n",
       "        text-align: right;\n",
       "    }\n",
       "</style>\n",
       "<table border=\"1\" class=\"dataframe\">\n",
       "  <thead>\n",
       "    <tr style=\"text-align: right;\">\n",
       "      <th></th>\n",
       "      <th>Disease</th>\n",
       "      <th>Fever</th>\n",
       "      <th>Cough</th>\n",
       "      <th>Fatigue</th>\n",
       "      <th>Difficulty Breathing</th>\n",
       "      <th>Age</th>\n",
       "      <th>Gender</th>\n",
       "      <th>Blood Pressure</th>\n",
       "      <th>Cholesterol Level</th>\n",
       "      <th>Outcome Variable</th>\n",
       "    </tr>\n",
       "  </thead>\n",
       "  <tbody>\n",
       "    <tr>\n",
       "      <th>0</th>\n",
       "      <td>Influenza</td>\n",
       "      <td>1</td>\n",
       "      <td>0</td>\n",
       "      <td>1</td>\n",
       "      <td>1</td>\n",
       "      <td>19</td>\n",
       "      <td>0</td>\n",
       "      <td>0</td>\n",
       "      <td>1</td>\n",
       "      <td>1</td>\n",
       "    </tr>\n",
       "    <tr>\n",
       "      <th>1</th>\n",
       "      <td>Common Cold</td>\n",
       "      <td>0</td>\n",
       "      <td>1</td>\n",
       "      <td>1</td>\n",
       "      <td>0</td>\n",
       "      <td>25</td>\n",
       "      <td>0</td>\n",
       "      <td>1</td>\n",
       "      <td>1</td>\n",
       "      <td>0</td>\n",
       "    </tr>\n",
       "    <tr>\n",
       "      <th>2</th>\n",
       "      <td>Eczema</td>\n",
       "      <td>0</td>\n",
       "      <td>1</td>\n",
       "      <td>1</td>\n",
       "      <td>0</td>\n",
       "      <td>25</td>\n",
       "      <td>0</td>\n",
       "      <td>1</td>\n",
       "      <td>1</td>\n",
       "      <td>0</td>\n",
       "    </tr>\n",
       "    <tr>\n",
       "      <th>3</th>\n",
       "      <td>Asthma</td>\n",
       "      <td>1</td>\n",
       "      <td>1</td>\n",
       "      <td>0</td>\n",
       "      <td>1</td>\n",
       "      <td>25</td>\n",
       "      <td>1</td>\n",
       "      <td>1</td>\n",
       "      <td>1</td>\n",
       "      <td>1</td>\n",
       "    </tr>\n",
       "    <tr>\n",
       "      <th>4</th>\n",
       "      <td>Asthma</td>\n",
       "      <td>1</td>\n",
       "      <td>1</td>\n",
       "      <td>0</td>\n",
       "      <td>1</td>\n",
       "      <td>25</td>\n",
       "      <td>1</td>\n",
       "      <td>1</td>\n",
       "      <td>1</td>\n",
       "      <td>1</td>\n",
       "    </tr>\n",
       "    <tr>\n",
       "      <th>...</th>\n",
       "      <td>...</td>\n",
       "      <td>...</td>\n",
       "      <td>...</td>\n",
       "      <td>...</td>\n",
       "      <td>...</td>\n",
       "      <td>...</td>\n",
       "      <td>...</td>\n",
       "      <td>...</td>\n",
       "      <td>...</td>\n",
       "      <td>...</td>\n",
       "    </tr>\n",
       "    <tr>\n",
       "      <th>344</th>\n",
       "      <td>Stroke</td>\n",
       "      <td>1</td>\n",
       "      <td>0</td>\n",
       "      <td>1</td>\n",
       "      <td>0</td>\n",
       "      <td>80</td>\n",
       "      <td>0</td>\n",
       "      <td>2</td>\n",
       "      <td>2</td>\n",
       "      <td>1</td>\n",
       "    </tr>\n",
       "    <tr>\n",
       "      <th>345</th>\n",
       "      <td>Stroke</td>\n",
       "      <td>1</td>\n",
       "      <td>0</td>\n",
       "      <td>1</td>\n",
       "      <td>0</td>\n",
       "      <td>85</td>\n",
       "      <td>1</td>\n",
       "      <td>2</td>\n",
       "      <td>2</td>\n",
       "      <td>1</td>\n",
       "    </tr>\n",
       "    <tr>\n",
       "      <th>346</th>\n",
       "      <td>Stroke</td>\n",
       "      <td>1</td>\n",
       "      <td>0</td>\n",
       "      <td>1</td>\n",
       "      <td>0</td>\n",
       "      <td>85</td>\n",
       "      <td>1</td>\n",
       "      <td>2</td>\n",
       "      <td>2</td>\n",
       "      <td>1</td>\n",
       "    </tr>\n",
       "    <tr>\n",
       "      <th>347</th>\n",
       "      <td>Stroke</td>\n",
       "      <td>1</td>\n",
       "      <td>0</td>\n",
       "      <td>1</td>\n",
       "      <td>0</td>\n",
       "      <td>90</td>\n",
       "      <td>0</td>\n",
       "      <td>2</td>\n",
       "      <td>2</td>\n",
       "      <td>1</td>\n",
       "    </tr>\n",
       "    <tr>\n",
       "      <th>348</th>\n",
       "      <td>Stroke</td>\n",
       "      <td>1</td>\n",
       "      <td>0</td>\n",
       "      <td>1</td>\n",
       "      <td>0</td>\n",
       "      <td>90</td>\n",
       "      <td>0</td>\n",
       "      <td>2</td>\n",
       "      <td>2</td>\n",
       "      <td>1</td>\n",
       "    </tr>\n",
       "  </tbody>\n",
       "</table>\n",
       "<p>349 rows × 10 columns</p>\n",
       "</div>"
      ],
      "text/plain": [
       "         Disease  Fever  Cough  Fatigue  Difficulty Breathing  Age  Gender  \\\n",
       "0      Influenza      1      0        1                     1   19       0   \n",
       "1    Common Cold      0      1        1                     0   25       0   \n",
       "2         Eczema      0      1        1                     0   25       0   \n",
       "3         Asthma      1      1        0                     1   25       1   \n",
       "4         Asthma      1      1        0                     1   25       1   \n",
       "..           ...    ...    ...      ...                   ...  ...     ...   \n",
       "344       Stroke      1      0        1                     0   80       0   \n",
       "345       Stroke      1      0        1                     0   85       1   \n",
       "346       Stroke      1      0        1                     0   85       1   \n",
       "347       Stroke      1      0        1                     0   90       0   \n",
       "348       Stroke      1      0        1                     0   90       0   \n",
       "\n",
       "     Blood Pressure  Cholesterol Level  Outcome Variable  \n",
       "0                 0                  1                 1  \n",
       "1                 1                  1                 0  \n",
       "2                 1                  1                 0  \n",
       "3                 1                  1                 1  \n",
       "4                 1                  1                 1  \n",
       "..              ...                ...               ...  \n",
       "344               2                  2                 1  \n",
       "345               2                  2                 1  \n",
       "346               2                  2                 1  \n",
       "347               2                  2                 1  \n",
       "348               2                  2                 1  \n",
       "\n",
       "[349 rows x 10 columns]"
      ]
     },
     "execution_count": 5,
     "metadata": {},
     "output_type": "execute_result"
    }
   ],
   "source": [
    "# Gender (Male - 1; Female - 0)\n",
    "data['Gender'] = data['Gender'].map({'Male':'1', 'Female':'0'}).astype('int64')\n",
    "\n",
    "# Symptoms (Yes - 1; No - 0)\n",
    "data['Fever'] = data['Fever'].map({'Yes':'1', 'No':'0'}).astype('int64')\n",
    "data['Cough'] = data['Cough'].map({'Yes':'1', 'No':'0'}).astype('int64')\n",
    "data['Fatigue'] = data['Fatigue'].map({'Yes':'1', 'No':'0'}).astype('int64')\n",
    "data['Difficulty Breathing'] = data['Difficulty Breathing'].map({'Yes':'1', 'No':'0'}).astype('int64')\n",
    "\n",
    "# Symptoms (High - 2; Normal - 1; Low - 0)\n",
    "data['Blood Pressure'] = data['Blood Pressure'].map({'High':'2', 'Normal':'1', 'Low':'0'}).astype('int64')\n",
    "data['Cholesterol Level'] = data['Cholesterol Level'].map({'High':'2', 'Normal':'1', 'Low':'0'}).astype('int64')\n",
    "\n",
    "# Symptoms (Positive - 1; Negative - 0)\n",
    "data['Outcome Variable'] = data['Outcome Variable'].map({'Positive':'1', 'Negative':'0'}).astype('int64')\n",
    "\n",
    "data_start = data.copy()\n",
    "data\n"
   ]
  },
  {
   "cell_type": "markdown",
   "id": "5cf3379c-f5cf-448c-871b-12c4b754dfb6",
   "metadata": {},
   "source": [
    "## Кластеризация KMeans пациентов со схожими симптомами"
   ]
  },
  {
   "cell_type": "code",
   "execution_count": 6,
   "id": "066af3d6-0f12-4da2-bdb1-e883db946888",
   "metadata": {},
   "outputs": [],
   "source": [
    "from sklearn.preprocessing import StandardScaler\n",
    "from sklearn.cluster import KMeans\n",
    "import matplotlib.pyplot as plt\n",
    "import seaborn as sns\n",
    "import pandas as pd"
   ]
  },
  {
   "cell_type": "markdown",
   "id": "f9dca20a-49ca-40f6-bd2e-67f245db5214",
   "metadata": {},
   "source": [
    "***Нормируем данные***"
   ]
  },
  {
   "cell_type": "code",
   "execution_count": 7,
   "id": "db6818a1-aa71-47a5-b4cc-9a0a66c4cd84",
   "metadata": {},
   "outputs": [],
   "source": [
    "data_features = data.drop(columns=['Disease', 'Age', 'Gender', 'Outcome Variable']) # удаляем столбцы, чтобы сгруппировать пациентов со схожими симптомами\n",
    "scaler = StandardScaler()\n",
    "X_scaled = scaler.fit_transform(data_features) # нормализация данных"
   ]
  },
  {
   "cell_type": "markdown",
   "id": "ef809eaf-f55f-4032-8cfd-c000f3c18f49",
   "metadata": {},
   "source": [
    "***Подбираем k для алгоритма методом 'локтя'***"
   ]
  },
  {
   "cell_type": "code",
   "execution_count": 8,
   "id": "3573cc37-ac69-4fe1-b22f-b88bdfd83a28",
   "metadata": {},
   "outputs": [
    {
     "data": {
      "image/png": "[encoded data removed]",
      "text/plain": [
       "<Figure size 600x400 with 1 Axes>"
      ]
     },
     "metadata": {},
     "output_type": "display_data"
    }
   ],
   "source": [
    "inertia = []\n",
    "for k in range(1, 10):\n",
    "    kmeans = KMeans(n_clusters=k, random_state=42)\n",
    "    kmeans.fit(X_scaled)\n",
    "    inertia.append(kmeans.inertia_)\n",
    "plt.figure(figsize=(6, 4))\n",
    "plt.plot(inertia, marker='o')\n",
    "plt.xlabel(\"Количество кластеров (k)\")\n",
    "plt.ylabel(\"Ошибка кластеризации (inertia)\")\n",
    "plt.title(\"Метод локтя\")\n",
    "plt.show()"
   ]
  },
  {
   "cell_type": "markdown",
   "id": "cc105794-ee16-43e0-93c4-c66d13166f87",
   "metadata": {},
   "source": [
    "***Оптимальное k = 4***"
   ]
  },
  {
   "cell_type": "code",
   "execution_count": 9,
   "id": "7a76e010-f724-4de8-a1a5-039088e99a0e",
   "metadata": {},
   "outputs": [
    {
     "data": {
      "text/html": [
       "<div>\n",
       "<style scoped>\n",
       "    .dataframe tbody tr th:only-of-type {\n",
       "        vertical-align: middle;\n",
       "    }\n",
       "\n",
       "    .dataframe tbody tr th {\n",
       "        vertical-align: top;\n",
       "    }\n",
       "\n",
       "    .dataframe thead th {\n",
       "        text-align: right;\n",
       "    }\n",
       "</style>\n",
       "<table border=\"1\" class=\"dataframe\">\n",
       "  <thead>\n",
       "    <tr style=\"text-align: right;\">\n",
       "      <th></th>\n",
       "      <th>Disease</th>\n",
       "      <th>Fever</th>\n",
       "      <th>Cough</th>\n",
       "      <th>Fatigue</th>\n",
       "      <th>Difficulty Breathing</th>\n",
       "      <th>Age</th>\n",
       "      <th>Gender</th>\n",
       "      <th>Blood Pressure</th>\n",
       "      <th>Cholesterol Level</th>\n",
       "      <th>Outcome Variable</th>\n",
       "      <th>Cluster</th>\n",
       "    </tr>\n",
       "  </thead>\n",
       "  <tbody>\n",
       "    <tr>\n",
       "      <th>0</th>\n",
       "      <td>Influenza</td>\n",
       "      <td>1</td>\n",
       "      <td>0</td>\n",
       "      <td>1</td>\n",
       "      <td>1</td>\n",
       "      <td>19</td>\n",
       "      <td>0</td>\n",
       "      <td>0</td>\n",
       "      <td>1</td>\n",
       "      <td>1</td>\n",
       "      <td>1</td>\n",
       "    </tr>\n",
       "    <tr>\n",
       "      <th>1</th>\n",
       "      <td>Common Cold</td>\n",
       "      <td>0</td>\n",
       "      <td>1</td>\n",
       "      <td>1</td>\n",
       "      <td>0</td>\n",
       "      <td>25</td>\n",
       "      <td>0</td>\n",
       "      <td>1</td>\n",
       "      <td>1</td>\n",
       "      <td>0</td>\n",
       "      <td>3</td>\n",
       "    </tr>\n",
       "    <tr>\n",
       "      <th>2</th>\n",
       "      <td>Eczema</td>\n",
       "      <td>0</td>\n",
       "      <td>1</td>\n",
       "      <td>1</td>\n",
       "      <td>0</td>\n",
       "      <td>25</td>\n",
       "      <td>0</td>\n",
       "      <td>1</td>\n",
       "      <td>1</td>\n",
       "      <td>0</td>\n",
       "      <td>3</td>\n",
       "    </tr>\n",
       "    <tr>\n",
       "      <th>3</th>\n",
       "      <td>Asthma</td>\n",
       "      <td>1</td>\n",
       "      <td>1</td>\n",
       "      <td>0</td>\n",
       "      <td>1</td>\n",
       "      <td>25</td>\n",
       "      <td>1</td>\n",
       "      <td>1</td>\n",
       "      <td>1</td>\n",
       "      <td>1</td>\n",
       "      <td>2</td>\n",
       "    </tr>\n",
       "    <tr>\n",
       "      <th>4</th>\n",
       "      <td>Asthma</td>\n",
       "      <td>1</td>\n",
       "      <td>1</td>\n",
       "      <td>0</td>\n",
       "      <td>1</td>\n",
       "      <td>25</td>\n",
       "      <td>1</td>\n",
       "      <td>1</td>\n",
       "      <td>1</td>\n",
       "      <td>1</td>\n",
       "      <td>2</td>\n",
       "    </tr>\n",
       "    <tr>\n",
       "      <th>...</th>\n",
       "      <td>...</td>\n",
       "      <td>...</td>\n",
       "      <td>...</td>\n",
       "      <td>...</td>\n",
       "      <td>...</td>\n",
       "      <td>...</td>\n",
       "      <td>...</td>\n",
       "      <td>...</td>\n",
       "      <td>...</td>\n",
       "      <td>...</td>\n",
       "      <td>...</td>\n",
       "    </tr>\n",
       "    <tr>\n",
       "      <th>344</th>\n",
       "      <td>Stroke</td>\n",
       "      <td>1</td>\n",
       "      <td>0</td>\n",
       "      <td>1</td>\n",
       "      <td>0</td>\n",
       "      <td>80</td>\n",
       "      <td>0</td>\n",
       "      <td>2</td>\n",
       "      <td>2</td>\n",
       "      <td>1</td>\n",
       "      <td>0</td>\n",
       "    </tr>\n",
       "    <tr>\n",
       "      <th>345</th>\n",
       "      <td>Stroke</td>\n",
       "      <td>1</td>\n",
       "      <td>0</td>\n",
       "      <td>1</td>\n",
       "      <td>0</td>\n",
       "      <td>85</td>\n",
       "      <td>1</td>\n",
       "      <td>2</td>\n",
       "      <td>2</td>\n",
       "      <td>1</td>\n",
       "      <td>0</td>\n",
       "    </tr>\n",
       "    <tr>\n",
       "      <th>346</th>\n",
       "      <td>Stroke</td>\n",
       "      <td>1</td>\n",
       "      <td>0</td>\n",
       "      <td>1</td>\n",
       "      <td>0</td>\n",
       "      <td>85</td>\n",
       "      <td>1</td>\n",
       "      <td>2</td>\n",
       "      <td>2</td>\n",
       "      <td>1</td>\n",
       "      <td>0</td>\n",
       "    </tr>\n",
       "    <tr>\n",
       "      <th>347</th>\n",
       "      <td>Stroke</td>\n",
       "      <td>1</td>\n",
       "      <td>0</td>\n",
       "      <td>1</td>\n",
       "      <td>0</td>\n",
       "      <td>90</td>\n",
       "      <td>0</td>\n",
       "      <td>2</td>\n",
       "      <td>2</td>\n",
       "      <td>1</td>\n",
       "      <td>0</td>\n",
       "    </tr>\n",
       "    <tr>\n",
       "      <th>348</th>\n",
       "      <td>Stroke</td>\n",
       "      <td>1</td>\n",
       "      <td>0</td>\n",
       "      <td>1</td>\n",
       "      <td>0</td>\n",
       "      <td>90</td>\n",
       "      <td>0</td>\n",
       "      <td>2</td>\n",
       "      <td>2</td>\n",
       "      <td>1</td>\n",
       "      <td>0</td>\n",
       "    </tr>\n",
       "  </tbody>\n",
       "</table>\n",
       "<p>349 rows × 11 columns</p>\n",
       "</div>"
      ],
      "text/plain": [
       "         Disease  Fever  Cough  Fatigue  Difficulty Breathing  Age  Gender  \\\n",
       "0      Influenza      1      0        1                     1   19       0   \n",
       "1    Common Cold      0      1        1                     0   25       0   \n",
       "2         Eczema      0      1        1                     0   25       0   \n",
       "3         Asthma      1      1        0                     1   25       1   \n",
       "4         Asthma      1      1        0                     1   25       1   \n",
       "..           ...    ...    ...      ...                   ...  ...     ...   \n",
       "344       Stroke      1      0        1                     0   80       0   \n",
       "345       Stroke      1      0        1                     0   85       1   \n",
       "346       Stroke      1      0        1                     0   85       1   \n",
       "347       Stroke      1      0        1                     0   90       0   \n",
       "348       Stroke      1      0        1                     0   90       0   \n",
       "\n",
       "     Blood Pressure  Cholesterol Level  Outcome Variable  Cluster  \n",
       "0                 0                  1                 1        1  \n",
       "1                 1                  1                 0        3  \n",
       "2                 1                  1                 0        3  \n",
       "3                 1                  1                 1        2  \n",
       "4                 1                  1                 1        2  \n",
       "..              ...                ...               ...      ...  \n",
       "344               2                  2                 1        0  \n",
       "345               2                  2                 1        0  \n",
       "346               2                  2                 1        0  \n",
       "347               2                  2                 1        0  \n",
       "348               2                  2                 1        0  \n",
       "\n",
       "[349 rows x 11 columns]"
      ]
     },
     "execution_count": 9,
     "metadata": {},
     "output_type": "execute_result"
    }
   ],
   "source": [
    "k = 4\n",
    "kmeans = KMeans(n_clusters=k, random_state=42)\n",
    "kmeans.fit(X_scaled)\n",
    "\n",
    "cluster_labels = kmeans.labels_\n",
    "data['Cluster'] = cluster_labels\n",
    "data"
   ]
  },
  {
   "cell_type": "markdown",
   "id": "3713e389-8b67-488d-82b4-f3d113f53798",
   "metadata": {},
   "source": [
    "***Сведём таблицу кластеров***"
   ]
  },
  {
   "cell_type": "code",
   "execution_count": 10,
   "id": "48e8ffcf-cc2b-4fab-a002-68b18bfba6d6",
   "metadata": {},
   "outputs": [
    {
     "data": {
      "text/html": [
       "<div>\n",
       "<style scoped>\n",
       "    .dataframe tbody tr th:only-of-type {\n",
       "        vertical-align: middle;\n",
       "    }\n",
       "\n",
       "    .dataframe tbody tr th {\n",
       "        vertical-align: top;\n",
       "    }\n",
       "\n",
       "    .dataframe thead th {\n",
       "        text-align: right;\n",
       "    }\n",
       "</style>\n",
       "<table border=\"1\" class=\"dataframe\">\n",
       "  <thead>\n",
       "    <tr style=\"text-align: right;\">\n",
       "      <th>Disease</th>\n",
       "      <th>Acne</th>\n",
       "      <th>Allergic Rhinitis</th>\n",
       "      <th>Alzheimer's Disease</th>\n",
       "      <th>Anemia</th>\n",
       "      <th>Anxiety Disorders</th>\n",
       "      <th>Appendicitis</th>\n",
       "      <th>Asthma</th>\n",
       "      <th>Atherosclerosis</th>\n",
       "      <th>Autism Spectrum Disorder (ASD)</th>\n",
       "      <th>Bipolar Disorder</th>\n",
       "      <th>...</th>\n",
       "      <th>Tonsillitis</th>\n",
       "      <th>Tourette Syndrome</th>\n",
       "      <th>Tuberculosis</th>\n",
       "      <th>Turner Syndrome</th>\n",
       "      <th>Typhoid Fever</th>\n",
       "      <th>Ulcerative Colitis</th>\n",
       "      <th>Urinary Tract Infection</th>\n",
       "      <th>Urinary Tract Infection (UTI)</th>\n",
       "      <th>Williams Syndrome</th>\n",
       "      <th>Zika Virus</th>\n",
       "    </tr>\n",
       "    <tr>\n",
       "      <th>Cluster</th>\n",
       "      <th></th>\n",
       "      <th></th>\n",
       "      <th></th>\n",
       "      <th></th>\n",
       "      <th></th>\n",
       "      <th></th>\n",
       "      <th></th>\n",
       "      <th></th>\n",
       "      <th></th>\n",
       "      <th></th>\n",
       "      <th></th>\n",
       "      <th></th>\n",
       "      <th></th>\n",
       "      <th></th>\n",
       "      <th></th>\n",
       "      <th></th>\n",
       "      <th></th>\n",
       "      <th></th>\n",
       "      <th></th>\n",
       "      <th></th>\n",
       "      <th></th>\n",
       "    </tr>\n",
       "  </thead>\n",
       "  <tbody>\n",
       "    <tr>\n",
       "      <th>0</th>\n",
       "      <td>1</td>\n",
       "      <td>2</td>\n",
       "      <td>3</td>\n",
       "      <td>1</td>\n",
       "      <td>1</td>\n",
       "      <td>1</td>\n",
       "      <td>2</td>\n",
       "      <td>1</td>\n",
       "      <td>1</td>\n",
       "      <td>1</td>\n",
       "      <td>...</td>\n",
       "      <td>0</td>\n",
       "      <td>1</td>\n",
       "      <td>0</td>\n",
       "      <td>2</td>\n",
       "      <td>0</td>\n",
       "      <td>1</td>\n",
       "      <td>1</td>\n",
       "      <td>2</td>\n",
       "      <td>1</td>\n",
       "      <td>2</td>\n",
       "    </tr>\n",
       "    <tr>\n",
       "      <th>1</th>\n",
       "      <td>0</td>\n",
       "      <td>1</td>\n",
       "      <td>0</td>\n",
       "      <td>0</td>\n",
       "      <td>2</td>\n",
       "      <td>0</td>\n",
       "      <td>9</td>\n",
       "      <td>0</td>\n",
       "      <td>0</td>\n",
       "      <td>0</td>\n",
       "      <td>...</td>\n",
       "      <td>1</td>\n",
       "      <td>0</td>\n",
       "      <td>3</td>\n",
       "      <td>0</td>\n",
       "      <td>0</td>\n",
       "      <td>0</td>\n",
       "      <td>1</td>\n",
       "      <td>0</td>\n",
       "      <td>0</td>\n",
       "      <td>0</td>\n",
       "    </tr>\n",
       "    <tr>\n",
       "      <th>2</th>\n",
       "      <td>0</td>\n",
       "      <td>1</td>\n",
       "      <td>0</td>\n",
       "      <td>0</td>\n",
       "      <td>1</td>\n",
       "      <td>0</td>\n",
       "      <td>11</td>\n",
       "      <td>0</td>\n",
       "      <td>0</td>\n",
       "      <td>0</td>\n",
       "      <td>...</td>\n",
       "      <td>0</td>\n",
       "      <td>0</td>\n",
       "      <td>0</td>\n",
       "      <td>0</td>\n",
       "      <td>0</td>\n",
       "      <td>2</td>\n",
       "      <td>1</td>\n",
       "      <td>1</td>\n",
       "      <td>0</td>\n",
       "      <td>0</td>\n",
       "    </tr>\n",
       "    <tr>\n",
       "      <th>3</th>\n",
       "      <td>0</td>\n",
       "      <td>2</td>\n",
       "      <td>2</td>\n",
       "      <td>0</td>\n",
       "      <td>2</td>\n",
       "      <td>0</td>\n",
       "      <td>1</td>\n",
       "      <td>0</td>\n",
       "      <td>0</td>\n",
       "      <td>0</td>\n",
       "      <td>...</td>\n",
       "      <td>0</td>\n",
       "      <td>0</td>\n",
       "      <td>0</td>\n",
       "      <td>0</td>\n",
       "      <td>2</td>\n",
       "      <td>2</td>\n",
       "      <td>2</td>\n",
       "      <td>0</td>\n",
       "      <td>0</td>\n",
       "      <td>0</td>\n",
       "    </tr>\n",
       "  </tbody>\n",
       "</table>\n",
       "<p>4 rows × 116 columns</p>\n",
       "</div>"
      ],
      "text/plain": [
       "Disease  Acne  Allergic Rhinitis  Alzheimer's Disease  Anemia  \\\n",
       "Cluster                                                         \n",
       "0           1                  2                    3       1   \n",
       "1           0                  1                    0       0   \n",
       "2           0                  1                    0       0   \n",
       "3           0                  2                    2       0   \n",
       "\n",
       "Disease  Anxiety Disorders  Appendicitis  Asthma  Atherosclerosis  \\\n",
       "Cluster                                                             \n",
       "0                        1             1       2                1   \n",
       "1                        2             0       9                0   \n",
       "2                        1             0      11                0   \n",
       "3                        2             0       1                0   \n",
       "\n",
       "Disease  Autism Spectrum Disorder (ASD)  Bipolar Disorder  ...  Tonsillitis  \\\n",
       "Cluster                                                    ...                \n",
       "0                                     1                 1  ...            0   \n",
       "1                                     0                 0  ...            1   \n",
       "2                                     0                 0  ...            0   \n",
       "3                                     0                 0  ...            0   \n",
       "\n",
       "Disease  Tourette Syndrome  Tuberculosis  Turner Syndrome  Typhoid Fever  \\\n",
       "Cluster                                                                    \n",
       "0                        1             0                2              0   \n",
       "1                        0             3                0              0   \n",
       "2                        0             0                0              0   \n",
       "3                        0             0                0              2   \n",
       "\n",
       "Disease  Ulcerative Colitis  Urinary Tract Infection  \\\n",
       "Cluster                                                \n",
       "0                         1                        1   \n",
       "1                         0                        1   \n",
       "2                         2                        1   \n",
       "3                         2                        2   \n",
       "\n",
       "Disease  Urinary Tract Infection (UTI)  Williams Syndrome  Zika Virus  \n",
       "Cluster                                                                \n",
       "0                                    2                  1           2  \n",
       "1                                    0                  0           0  \n",
       "2                                    1                  0           0  \n",
       "3                                    0                  0           0  \n",
       "\n",
       "[4 rows x 116 columns]"
      ]
     },
     "execution_count": 10,
     "metadata": {},
     "output_type": "execute_result"
    }
   ],
   "source": [
    "cluster_disease = data.groupby(['Cluster', 'Disease']).size().unstack(fill_value=0)\n",
    "cluster_disease"
   ]
  },
  {
   "cell_type": "markdown",
   "id": "b29ce072-003b-4e8d-b1c2-12e3f54d7b8a",
   "metadata": {},
   "source": [
    "***Выведем топ-3 болезни в каждом кластере***                    \n",
    "***Мы видим, что болезни со схожей функциональностью, действительно находятся в одном кластере***"
   ]
  },
  {
   "cell_type": "code",
   "execution_count": 11,
   "id": "397359c2-e5e5-4d90-a893-a618330d56c0",
   "metadata": {},
   "outputs": [
    {
     "name": "stdout",
     "output_type": "stream",
     "text": [
      "    Cluster                  Disease  Count\n",
      "0         0                   Stroke     10\n",
      "1         0             Hypertension      5\n",
      "2         0             Osteoporosis      5\n",
      "3         1                   Asthma      9\n",
      "4         1                Pneumonia      7\n",
      "5         1                Influenza      6\n",
      "6         2                   Asthma     11\n",
      "7         2                 Migraine      4\n",
      "8         2  Coronary Artery Disease      2\n",
      "9         3             Osteoporosis      5\n",
      "10        3                 Diabetes      4\n",
      "11        3                   Eczema      3\n"
     ]
    },
    {
     "name": "stderr",
     "output_type": "stream",
     "text": [
      "/var/folders/g4/v5z2m8dn34z2p9v96d3pjscw0000gn/T/ipykernel_27160/3876981195.py:2: DeprecationWarning: DataFrameGroupBy.apply operated on the grouping columns. This behavior is deprecated, and in a future version of pandas the grouping columns will be excluded from the operation. Either pass `include_groups=False` to exclude the groupings or explicitly select the grouping columns after groupby to silence this warning.\n",
      "  most_common_disease = cluster_disease_counts.groupby('Cluster').apply(lambda x: x.nlargest(3,'Count')).reset_index(drop=True)\n"
     ]
    }
   ],
   "source": [
    "cluster_disease_counts = data.groupby(['Cluster', 'Disease']).size().reset_index(name='Count')\n",
    "most_common_disease = cluster_disease_counts.groupby('Cluster').apply(lambda x: x.nlargest(3,'Count')).reset_index(drop=True)\n",
    "print(most_common_disease)"
   ]
  },
  {
   "cell_type": "markdown",
   "id": "25f238bb-722b-46bd-9fe7-2fc2fda05e39",
   "metadata": {},
   "source": [
    "***Визуализируем кластеры***"
   ]
  },
  {
   "cell_type": "code",
   "execution_count": 12,
   "id": "2071b06f-d6cc-4249-940b-03696cf2b104",
   "metadata": {},
   "outputs": [
    {
     "data": {
      "image/png": "[encoded data removed]",
      "text/plain": [
       "<Figure size 640x480 with 1 Axes>"
      ]
     },
     "metadata": {},
     "output_type": "display_data"
    },
    {
     "data": {
      "text/plain": [
       "<Figure size 600x400 with 0 Axes>"
      ]
     },
     "metadata": {},
     "output_type": "display_data"
    }
   ],
   "source": [
    "from sklearn.decomposition import PCA\n",
    "\n",
    "pca = PCA(n_components=2)\n",
    "X_pca = pca.fit_transform(X_scaled)\n",
    "sns.scatterplot(\n",
    "    x=X_pca[:,0], \n",
    "    y=X_pca[:,1],\n",
    "    hue=data['Cluster'],\n",
    "    palette='Set2'\n",
    ")\n",
    "\n",
    "plt.title(\"Кластеры пациентов\")\n",
    "plt.figure(figsize=(6, 4))\n",
    "plt.show()\n"
   ]
  },
  {
   "cell_type": "markdown",
   "id": "f3130491-222f-4e00-9b7d-fee71c8ee769",
   "metadata": {},
   "source": [
    "## Гипотезы"
   ]
  },
  {
   "cell_type": "code",
   "execution_count": 13,
   "id": "4752ea83-98e9-4b09-b18f-3097377f4b0c",
   "metadata": {},
   "outputs": [],
   "source": [
    "from scipy.stats import chi2_contingency, ttest_ind, f_oneway"
   ]
  },
  {
   "cell_type": "markdown",
   "id": "cc567dd1-2d1c-475c-9dcb-b4518acb7e1d",
   "metadata": {},
   "source": [
    "#### ***Хи-квадрат*** для проверки зависимости между затрудненным дыханием и повышенной температурой тела\n",
    "\n",
    "***p-value < 0.05=>*** отвергаем нулевую гпиотезу и делаем вывод, что затрудненное дыхание и повышенная температура тела зависимы"
   ]
  },
  {
   "cell_type": "code",
   "execution_count": 14,
   "id": "c3e2fdb4-c9b1-4783-bc12-3bce370fdaa3",
   "metadata": {},
   "outputs": [
    {
     "name": "stdout",
     "output_type": "stream",
     "text": [
      "Хи-квадрат : 22.81397993474465 p-value: 1.7846281718167037e-06\n"
     ]
    }
   ],
   "source": [
    "contingency_table = pd.crosstab(data['Difficulty Breathing'], data['Fever'])\n",
    "chi2, p_value, dof, expected = chi2_contingency(contingency_table)\n",
    "print(\"Хи-квадрат :\", chi2, \"p-value:\", p_value)\n"
   ]
  },
  {
   "cell_type": "markdown",
   "id": "31561412-3bf0-4516-b0d7-6446af45aca7",
   "metadata": {},
   "source": [
    "## Анализ по графикам"
   ]
  },
  {
   "cell_type": "code",
   "execution_count": 15,
   "id": "ad4cc129-3cff-4a93-bd3c-995a80ebaf54",
   "metadata": {},
   "outputs": [],
   "source": [
    "import matplotlib.pyplot as plt \n",
    "import seaborn as sns\n",
    "plt.style.use(\"ggplot\")\n",
    "# sns.set_palette(\"husl\")  "
   ]
  },
  {
   "cell_type": "markdown",
   "id": "b9dd6108-e58b-43a6-87a1-6c41a2a8b995",
   "metadata": {},
   "source": [
    "***Гистограмма кол-ва пациентов по возрастам***"
   ]
  },
  {
   "cell_type": "code",
   "execution_count": 16,
   "id": "f2444c2a-abda-4977-ba17-644efe9a683f",
   "metadata": {},
   "outputs": [
    {
     "data": {
      "image/png": "[encoded data removed]",
      "text/plain": [
       "<Figure size 640x480 with 1 Axes>"
      ]
     },
     "metadata": {},
     "output_type": "display_data"
    },
    {
     "data": {
      "text/plain": [
       "<Figure size 600x400 with 0 Axes>"
      ]
     },
     "metadata": {},
     "output_type": "display_data"
    }
   ],
   "source": [
    "sns.histplot(data_start[\"Age\"], bins=15, kde=True, color=\"blue\")\n",
    "plt.title(\"Гистограмма кол-ва пациентов по возрастам\")\n",
    "plt.figure(figsize=(6,4))\n",
    "plt.show()"
   ]
  },
  {
   "cell_type": "markdown",
   "id": "3421a993-f697-44ff-b6d9-ffec11a83be6",
   "metadata": {},
   "source": [
    "***Построим тепловую карту корреляций между симптомами. Результат - корелляция между разными симптомами < 0.5***"
   ]
  },
  {
   "cell_type": "code",
   "execution_count": 17,
   "id": "43a7e93e-5f27-4742-a862-7f9e118ab42d",
   "metadata": {},
   "outputs": [
    {
     "data": {
      "image/png": "[encoded data removed]",
      "text/plain": [
       "<Figure size 600x400 with 2 Axes>"
      ]
     },
     "metadata": {},
     "output_type": "display_data"
    }
   ],
   "source": [
    "data_corr = data_start.drop(columns = ['Disease', 'Age', 'Gender'])\n",
    "corr_matrix = data_corr.corr()\n",
    "plt.figure(figsize=(6,4))\n",
    "sns.heatmap(\n",
    "    corr_matrix, \n",
    "    cmap='coolwarm',     \n",
    "    annot=False,          \n",
    "    cbar=True,            \n",
    "    square=True\n",
    ")\n",
    "plt.title(\"Корреляции между симптомами (тепловая карта)\")\n",
    "plt.show()"
   ]
  },
  {
   "cell_type": "markdown",
   "id": "8c8cf033-fbac-414b-84c4-82c988924bc9",
   "metadata": {},
   "source": [
    "***Гистограмма распределения артериального давления относительно возраста***"
   ]
  },
  {
   "cell_type": "code",
   "execution_count": 18,
   "id": "3ffe970a-fce2-4de5-ad88-134218f0bc01",
   "metadata": {},
   "outputs": [
    {
     "data": {
      "image/png": "[encoded data removed]",
      "text/plain": [
       "<Figure size 600x400 with 1 Axes>"
      ]
     },
     "metadata": {},
     "output_type": "display_data"
    }
   ],
   "source": [
    "import seaborn as sns\n",
    "import matplotlib.pyplot as plt\n",
    "import pandas as pd\n",
    "\n",
    "pivot_df = pd.crosstab(data['Age'], data['Blood Pressure'])  \n",
    "pivot_df.plot(kind='bar', stacked=True, figsize=(6,4))\n",
    "plt.title('Распределение арт. давления по разным возрастам')\n",
    "plt.legend(['Low','Normal','High'])\n",
    "plt.show()\n"
   ]
  }
 ],
 "metadata": {
  "kernelspec": {
   "display_name": "base",
   "language": "python",
   "name": "python3"
  },
  "language_info": {
   "codemirror_mode": {
    "name": "ipython",
    "version": 3
   },
   "file_extension": ".py",
   "mimetype": "text/x-python",
   "name": "python",
   "nbconvert_exporter": "python",
   "pygments_lexer": "ipython3",
   "version": "3.12.4"
  }
 },
 "nbformat": 4,
 "nbformat_minor": 5
}
