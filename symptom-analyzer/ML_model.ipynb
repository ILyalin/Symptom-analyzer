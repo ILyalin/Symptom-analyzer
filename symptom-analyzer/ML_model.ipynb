{
 "cells": [
  {
   "cell_type": "markdown",
   "id": "b95fc21c-ce28-4b41-8433-28e2a5725517",
   "metadata": {},
   "source": [
    "# ML модель \n",
    "#### Модель определения болезни по имеющимся симптомам\n",
    "\n",
    "## Загрузка и маппинг датасета"
   ]
  },
  {
   "cell_type": "code",
   "execution_count": 1,
   "id": "bcd500a6-1fc6-478c-a386-e001af4e0dec",
   "metadata": {},
   "outputs": [],
   "source": [
    "import pandas as pd\n",
    "import numpy as np\n",
    "from sklearn.model_selection import train_test_split, cross_val_score, GridSearchCV\n",
    "from sklearn.preprocessing import LabelEncoder, StandardScaler\n",
    "from sklearn.ensemble import RandomForestClassifier\n",
    "from sklearn.metrics import accuracy_score, classification_report, confusion_matrix\n",
    "import seaborn as sns\n",
    "import matplotlib.pyplot as plt"
   ]
  },
  {
   "cell_type": "code",
   "execution_count": 2,
   "id": "39cf6584-1118-4f5d-a9e0-07408b8d7e4a",
   "metadata": {},
   "outputs": [
    {
     "name": "stdout",
     "output_type": "stream",
     "text": [
      "<class 'pandas.core.frame.DataFrame'>\n",
      "RangeIndex: 349 entries, 0 to 348\n",
      "Data columns (total 10 columns):\n",
      " #   Column                Non-Null Count  Dtype \n",
      "---  ------                --------------  ----- \n",
      " 0   Disease               349 non-null    string\n",
      " 1   Fever                 349 non-null    int64 \n",
      " 2   Cough                 349 non-null    int64 \n",
      " 3   Fatigue               349 non-null    int64 \n",
      " 4   Difficulty Breathing  349 non-null    int64 \n",
      " 5   Age                   349 non-null    int64 \n",
      " 6   Gender                349 non-null    int64 \n",
      " 7   Blood Pressure        349 non-null    int64 \n",
      " 8   Cholesterol Level     349 non-null    int64 \n",
      " 9   Outcome Variable      349 non-null    int64 \n",
      "dtypes: int64(9), string(1)\n",
      "memory usage: 27.4 KB\n"
     ]
    }
   ],
   "source": [
    "data = pd.read_csv('..//data//raw//Disease_symptom_and_patient_profile_dataset.csv')\n",
    "\n",
    "data = data.astype({\n",
    "    \"Disease\": \"string\",\n",
    "    \"Fever\": \"string\",\n",
    "    \"Cough\": \"string\",\n",
    "    \"Fatigue\": \"string\",\n",
    "    \"Difficulty Breathing\": \"string\",\n",
    "    \"Age\": \"int64\",\n",
    "    \"Gender\": \"string\",\n",
    "    \"Blood Pressure\": \"string\",\n",
    "    \"Cholesterol Level\": \"string\",\n",
    "    \"Outcome Variable\": \"string\"\n",
    "})\n",
    "\n",
    "# Gender (Male - 1; Female - 0)\n",
    "data['Gender'] = data['Gender'].map({'Male':'1', 'Female':'0'}).astype('int64')\n",
    "\n",
    "# Symptoms (Yes - 1; No - 0)\n",
    "data['Fever'] = data['Fever'].map({'Yes':'1', 'No':'0'}).astype('int64')\n",
    "data['Cough'] = data['Cough'].map({'Yes':'1', 'No':'0'}).astype('int64')\n",
    "data['Fatigue'] = data['Fatigue'].map({'Yes':'1', 'No':'0'}).astype('int64')\n",
    "data['Difficulty Breathing'] = data['Difficulty Breathing'].map({'Yes':'1', 'No':'0'}).astype('int64')\n",
    "\n",
    "# Symptoms (High - 2; Normal - 1; Low - 0)\n",
    "data['Blood Pressure'] = data['Blood Pressure'].map({'High':'2', 'Normal':'1', 'Low':'0'}).astype('int64')\n",
    "data['Cholesterol Level'] = data['Cholesterol Level'].map({'High':'2', 'Normal':'1', 'Low':'0'}).astype('int64')\n",
    "\n",
    "# Symptoms (Positive - 1; Negative - 0)\n",
    "data['Outcome Variable'] = data['Outcome Variable'].map({'Positive':'1', 'Negative':'0'}).astype('int64')\n",
    "\n",
    "data.info()"
   ]
  },
  {
   "cell_type": "markdown",
   "id": "1f4eca5a-ce46-4ce8-855b-18aefe80ae89",
   "metadata": {},
   "source": [
    "***Создаем дублирование (с небольшим шумом) классов редких болезней***"
   ]
  },
  {
   "cell_type": "code",
   "execution_count": 3,
   "id": "ea553720-9582-4a2b-ae97-65ff6855019c",
   "metadata": {},
   "outputs": [],
   "source": [
    "class_counts = data['Disease'].value_counts()\n",
    "rare_classes = class_counts[class_counts <= 2].index # Болезни, которые встречаются 1 или 2 раза\n",
    "data_augmented = data.copy()\n",
    "for rare_class in rare_classes:\n",
    "    sample = data[data['Disease'] == rare_class].copy()\n",
    "    if 'Age' in sample.columns:\n",
    "        sample['Age'] += np.random.randint(-2, 3, size=len(sample)) # Создаем шум на столбце возраста\n",
    "    data_augmented = pd.concat([data_augmented, sample, sample], ignore_index=True)  # Дублируем 2 раза"
   ]
  },
  {
   "cell_type": "markdown",
   "id": "a9f083fd-5a7e-430e-ac9b-0bd2129183a1",
   "metadata": {},
   "source": [
    "***Отделяем целевую переменную (target) от признаков (features)***"
   ]
  },
  {
   "cell_type": "code",
   "execution_count": 4,
   "id": "0cdcd33b-1132-4b66-94ab-e90d51995447",
   "metadata": {},
   "outputs": [],
   "source": [
    "x = data_augmented.drop(columns=['Disease'])\n",
    "y = data_augmented['Disease']\n",
    "le = LabelEncoder()\n",
    "y_encoded = le.fit_transform(y)"
   ]
  },
  {
   "cell_type": "markdown",
   "id": "7b3c2a24-8f8d-4962-bd09-c5d4ef9155a3",
   "metadata": {},
   "source": [
    "## Разделение датасета на test и train"
   ]
  },
  {
   "cell_type": "code",
   "execution_count": 5,
   "id": "e909f897-a853-4030-af83-817920725fbc",
   "metadata": {},
   "outputs": [],
   "source": [
    "x_train, x_test, y_train, y_test = train_test_split(\n",
    "    x, y_encoded, test_size=0.3, random_state=42, stratify=y_encoded)"
   ]
  },
  {
   "cell_type": "markdown",
   "id": "f719a5b7-a3bc-4ca9-a8f8-0686298fbb38",
   "metadata": {},
   "source": [
    "***Масштабируем признаки с помощью StandardScaler***"
   ]
  },
  {
   "cell_type": "code",
   "execution_count": 6,
   "id": "ad4c3ffa-a993-431b-bccc-078c467e8c6c",
   "metadata": {},
   "outputs": [],
   "source": [
    "scaler = StandardScaler()\n",
    "X_train_scaled = scaler.fit_transform(x_train)\n",
    "X_test_scaled = scaler.transform(x_test)"
   ]
  },
  {
   "cell_type": "markdown",
   "id": "c4263e0f-e6e9-4d81-8f1b-51650893a852",
   "metadata": {},
   "source": [
    "## Кросс-валидация модели RandomForest"
   ]
  },
  {
   "cell_type": "code",
   "execution_count": 7,
   "id": "94113cd9-6419-4ae6-be5b-b748266534b8",
   "metadata": {},
   "outputs": [
    {
     "name": "stdout",
     "output_type": "stream",
     "text": [
      "RandomForest средняя точность (cross-validation): 0.5605\n"
     ]
    }
   ],
   "source": [
    "from sklearn.ensemble import RandomForestClassifier\n",
    "\n",
    "rf_model = RandomForestClassifier(n_estimators=200, max_depth=None, random_state=42)\n",
    "rf_model.fit(X_train_scaled, y_train)\n",
    "\n",
    "rf_cv_scores = cross_val_score(rf_model, X_train_scaled, y_train, cv=2, scoring='accuracy')\n",
    "print(f\"RandomForest средняя точность (cross-validation): {rf_cv_scores.mean():.4f}\")"
   ]
  },
  {
   "cell_type": "markdown",
   "id": "f2ff939d-eb5d-4cb7-a9fa-200f0e3d590d",
   "metadata": {},
   "source": [
    "***Визуализация матрицы ошибок***"
   ]
  },
  {
   "cell_type": "code",
   "execution_count": 8,
   "id": "cdd6edfd-4e2d-4ba4-b346-dda5c8c8b66e",
   "metadata": {},
   "outputs": [],
   "source": [
    "# y_pred_rf = best_rf_model.predict(X_test_scaled) \n",
    "\n",
    "# # Оценка точности\n",
    "# acc_rf = accuracy_score(y_test, y_pred_rf)\n",
    "# print(f\"Accuracy на тесте (RandomForest): {acc_rf:.4f}\")\n",
    "\n",
    "# # Подробный отчёт\n",
    "# print(\"Classification Report (RandomForest):\")\n",
    "# print(classification_report(y_test, y_pred_rf, target_names=le.classes_))\n"
   ]
  },
  {
   "cell_type": "code",
   "execution_count": null,
   "id": "aebda84b-b734-4096-90f2-55feafc777ad",
   "metadata": {},
   "outputs": [],
   "source": []
  }
 ],
 "metadata": {
  "kernelspec": {
   "display_name": "base",
   "language": "python",
   "name": "python3"
  },
  "language_info": {
   "codemirror_mode": {
    "name": "ipython",
    "version": 3
   },
   "file_extension": ".py",
   "mimetype": "text/x-python",
   "name": "python",
   "nbconvert_exporter": "python",
   "pygments_lexer": "ipython3",
   "version": "3.12.4"
  }
 },
 "nbformat": 4,
 "nbformat_minor": 5
}
