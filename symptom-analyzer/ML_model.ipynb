{
 "cells": [
  {
   "cell_type": "markdown",
   "id": "b95fc21c-ce28-4b41-8433-28e2a5725517",
   "metadata": {},
   "source": [
    "# ML модель \n",
    "#### Модель определения болезни по имеющимся симптомам\n",
    "\n",
    "## Загрузка и маппинг датасета"
   ]
  },
  {
   "cell_type": "code",
   "execution_count": 900,
   "id": "bcd500a6-1fc6-478c-a386-e001af4e0dec",
   "metadata": {},
   "outputs": [],
   "source": [
    "import pandas as pd\n",
    "import numpy as np\n",
    "from sklearn.model_selection import train_test_split, cross_val_score, GridSearchCV\n",
    "from sklearn.preprocessing import LabelEncoder, StandardScaler\n",
    "from sklearn.ensemble import RandomForestClassifier\n",
    "from sklearn.metrics import accuracy_score, classification_report, confusion_matrix\n",
    "import seaborn as sns\n",
    "import matplotlib.pyplot as plt"
   ]
  },
  {
   "cell_type": "code",
   "execution_count": 901,
   "id": "39cf6584-1118-4f5d-a9e0-07408b8d7e4a",
   "metadata": {},
   "outputs": [
    {
     "name": "stdout",
     "output_type": "stream",
     "text": [
      "<class 'pandas.core.frame.DataFrame'>\n",
      "RangeIndex: 349 entries, 0 to 348\n",
      "Data columns (total 10 columns):\n",
      " #   Column                Non-Null Count  Dtype \n",
      "---  ------                --------------  ----- \n",
      " 0   Disease               349 non-null    string\n",
      " 1   Fever                 349 non-null    int64 \n",
      " 2   Cough                 349 non-null    int64 \n",
      " 3   Fatigue               349 non-null    int64 \n",
      " 4   Difficulty Breathing  349 non-null    int64 \n",
      " 5   Age                   349 non-null    int64 \n",
      " 6   Gender                349 non-null    int64 \n",
      " 7   Blood Pressure        349 non-null    int64 \n",
      " 8   Cholesterol Level     349 non-null    int64 \n",
      " 9   Outcome Variable      349 non-null    int64 \n",
      "dtypes: int64(9), string(1)\n",
      "memory usage: 27.4 KB\n"
     ]
    }
   ],
   "source": [
    "data = pd.read_csv('..//data//raw//Disease_symptom_and_patient_profile_dataset.csv')\n",
    "\n",
    "data = data.astype({\n",
    "    \"Disease\": \"string\",\n",
    "    \"Fever\": \"string\",\n",
    "    \"Cough\": \"string\",\n",
    "    \"Fatigue\": \"string\",\n",
    "    \"Difficulty Breathing\": \"string\",\n",
    "    \"Age\": \"int64\",\n",
    "    \"Gender\": \"string\",\n",
    "    \"Blood Pressure\": \"string\",\n",
    "    \"Cholesterol Level\": \"string\",\n",
    "    \"Outcome Variable\": \"string\"\n",
    "})\n",
    "\n",
    "# Gender (Male - 1; Female - 0)\n",
    "data['Gender'] = data['Gender'].map({'Male':'1', 'Female':'0'}).astype('int64')\n",
    "\n",
    "# Symptoms (Yes - 1; No - 0)\n",
    "data['Fever'] = data['Fever'].map({'Yes':'1', 'No':'0'}).astype('int64')\n",
    "data['Cough'] = data['Cough'].map({'Yes':'1', 'No':'0'}).astype('int64')\n",
    "data['Fatigue'] = data['Fatigue'].map({'Yes':'1', 'No':'0'}).astype('int64')\n",
    "data['Difficulty Breathing'] = data['Difficulty Breathing'].map({'Yes':'1', 'No':'0'}).astype('int64')\n",
    "\n",
    "# Symptoms (High - 2; Normal - 1; Low - 0)\n",
    "data['Blood Pressure'] = data['Blood Pressure'].map({'High':'2', 'Normal':'1', 'Low':'0'}).astype('int64')\n",
    "data['Cholesterol Level'] = data['Cholesterol Level'].map({'High':'2', 'Normal':'1', 'Low':'0'}).astype('int64')\n",
    "\n",
    "# Symptoms (Positive - 1; Negative - 0)\n",
    "data['Outcome Variable'] = data['Outcome Variable'].map({'Positive':'1', 'Negative':'0'}).astype('int64')\n",
    "\n",
    "data.info()"
   ]
  },
  {
   "cell_type": "markdown",
   "id": "9c9fdcdc",
   "metadata": {},
   "source": [
    "***Добавим новыый класс 'No disease', чтобы научиться отличать симптомы болезни, которой нет в нашей базе болезней***     \n",
    "***Удалеяем столбец 'Outcome Variable', чтобы не было прямого ответа для модели***"
   ]
  },
  {
   "cell_type": "code",
   "execution_count": 902,
   "id": "23e7a11d",
   "metadata": {},
   "outputs": [
    {
     "data": {
      "text/html": [
       "<div>\n",
       "<style scoped>\n",
       "    .dataframe tbody tr th:only-of-type {\n",
       "        vertical-align: middle;\n",
       "    }\n",
       "\n",
       "    .dataframe tbody tr th {\n",
       "        vertical-align: top;\n",
       "    }\n",
       "\n",
       "    .dataframe thead th {\n",
       "        text-align: right;\n",
       "    }\n",
       "</style>\n",
       "<table border=\"1\" class=\"dataframe\">\n",
       "  <thead>\n",
       "    <tr style=\"text-align: right;\">\n",
       "      <th></th>\n",
       "      <th>Disease</th>\n",
       "      <th>Fever</th>\n",
       "      <th>Cough</th>\n",
       "      <th>Fatigue</th>\n",
       "      <th>Difficulty Breathing</th>\n",
       "      <th>Age</th>\n",
       "      <th>Gender</th>\n",
       "      <th>Blood Pressure</th>\n",
       "      <th>Cholesterol Level</th>\n",
       "    </tr>\n",
       "  </thead>\n",
       "  <tbody>\n",
       "    <tr>\n",
       "      <th>0</th>\n",
       "      <td>Influenza</td>\n",
       "      <td>1</td>\n",
       "      <td>0</td>\n",
       "      <td>1</td>\n",
       "      <td>1</td>\n",
       "      <td>19</td>\n",
       "      <td>0</td>\n",
       "      <td>0</td>\n",
       "      <td>1</td>\n",
       "    </tr>\n",
       "    <tr>\n",
       "      <th>1</th>\n",
       "      <td>No disease</td>\n",
       "      <td>0</td>\n",
       "      <td>1</td>\n",
       "      <td>1</td>\n",
       "      <td>0</td>\n",
       "      <td>25</td>\n",
       "      <td>0</td>\n",
       "      <td>1</td>\n",
       "      <td>1</td>\n",
       "    </tr>\n",
       "    <tr>\n",
       "      <th>2</th>\n",
       "      <td>No disease</td>\n",
       "      <td>0</td>\n",
       "      <td>1</td>\n",
       "      <td>1</td>\n",
       "      <td>0</td>\n",
       "      <td>25</td>\n",
       "      <td>0</td>\n",
       "      <td>1</td>\n",
       "      <td>1</td>\n",
       "    </tr>\n",
       "    <tr>\n",
       "      <th>3</th>\n",
       "      <td>Asthma</td>\n",
       "      <td>1</td>\n",
       "      <td>1</td>\n",
       "      <td>0</td>\n",
       "      <td>1</td>\n",
       "      <td>25</td>\n",
       "      <td>1</td>\n",
       "      <td>1</td>\n",
       "      <td>1</td>\n",
       "    </tr>\n",
       "    <tr>\n",
       "      <th>4</th>\n",
       "      <td>Asthma</td>\n",
       "      <td>1</td>\n",
       "      <td>1</td>\n",
       "      <td>0</td>\n",
       "      <td>1</td>\n",
       "      <td>25</td>\n",
       "      <td>1</td>\n",
       "      <td>1</td>\n",
       "      <td>1</td>\n",
       "    </tr>\n",
       "  </tbody>\n",
       "</table>\n",
       "</div>"
      ],
      "text/plain": [
       "      Disease  Fever  Cough  Fatigue  Difficulty Breathing  Age  Gender  \\\n",
       "0   Influenza      1      0        1                     1   19       0   \n",
       "1  No disease      0      1        1                     0   25       0   \n",
       "2  No disease      0      1        1                     0   25       0   \n",
       "3      Asthma      1      1        0                     1   25       1   \n",
       "4      Asthma      1      1        0                     1   25       1   \n",
       "\n",
       "   Blood Pressure  Cholesterol Level  \n",
       "0               0                  1  \n",
       "1               1                  1  \n",
       "2               1                  1  \n",
       "3               1                  1  \n",
       "4               1                  1  "
      ]
     },
     "execution_count": 902,
     "metadata": {},
     "output_type": "execute_result"
    }
   ],
   "source": [
    "data_augmented = data.copy()\n",
    "data_augmented.loc[data_augmented['Outcome Variable'] == 0,'Disease'] = 'No disease'\n",
    "data_augmented.drop(columns=['Outcome Variable'],inplace=True)\n",
    "\n",
    "data_augmented.head()\n"
   ]
  },
  {
   "cell_type": "markdown",
   "id": "1f4eca5a-ce46-4ce8-855b-18aefe80ae89",
   "metadata": {},
   "source": [
    "***Создаем дублирование (с небольшим шумом) классов редких болезней***"
   ]
  },
  {
   "cell_type": "code",
   "execution_count": 903,
   "id": "ea553720-9582-4a2b-ae97-65ff6855019c",
   "metadata": {},
   "outputs": [],
   "source": [
    "class_counts = data_augmented['Disease'].value_counts()\n",
    "rare_classes = class_counts[class_counts <= 2].index # Болезни, которые встречаются 1 или 2 раза\n",
    "for rare_class in rare_classes:\n",
    "    sample = data_augmented[data_augmented['Disease'] == rare_class].copy()\n",
    "    if 'Age' in sample.columns:\n",
    "        sample['Age'] += np.random.randint(-2, 3, size=len(sample)) # Создаем шум на столбце возраста\n",
    "    data_augmented = pd.concat([data_augmented, sample, sample], ignore_index=True)  # Дублируем 2 раза\n",
    "# data_augmented.head()"
   ]
  },
  {
   "cell_type": "markdown",
   "id": "a9f083fd-5a7e-430e-ac9b-0bd2129183a1",
   "metadata": {},
   "source": [
    "***Отделяем целевую переменную (target) от признаков (features)***"
   ]
  },
  {
   "cell_type": "code",
   "execution_count": 904,
   "id": "0cdcd33b-1132-4b66-94ab-e90d51995447",
   "metadata": {},
   "outputs": [],
   "source": [
    "x = data_augmented.drop(columns=['Disease'])\n",
    "y = data_augmented['Disease']\n",
    "le = LabelEncoder()\n",
    "y_encoded = le.fit_transform(y)\n"
   ]
  },
  {
   "cell_type": "markdown",
   "id": "7b3c2a24-8f8d-4962-bd09-c5d4ef9155a3",
   "metadata": {},
   "source": [
    "## Разделение датасета на test и train"
   ]
  },
  {
   "cell_type": "code",
   "execution_count": 905,
   "id": "e909f897-a853-4030-af83-817920725fbc",
   "metadata": {},
   "outputs": [],
   "source": [
    "x_train, x_test, y_train, y_test = train_test_split(\n",
    "    x, y_encoded, test_size=0.2, random_state=42, stratify=y_encoded)"
   ]
  },
  {
   "cell_type": "markdown",
   "id": "f719a5b7-a3bc-4ca9-a8f8-0686298fbb38",
   "metadata": {},
   "source": [
    "***Масштабируем признаки с помощью StandardScaler (Хотя в данном случае оно не обязательно, тк RF использует не расстояния, а дискретное разбиение)***"
   ]
  },
  {
   "cell_type": "code",
   "execution_count": 906,
   "id": "ad4c3ffa-a993-431b-bccc-078c467e8c6c",
   "metadata": {},
   "outputs": [],
   "source": [
    "scaler = StandardScaler()\n",
    "X_train_scaled = scaler.fit_transform(x_train)\n",
    "X_test_scaled = scaler.transform(x_test)"
   ]
  },
  {
   "cell_type": "markdown",
   "id": "c4263e0f-e6e9-4d81-8f1b-51650893a852",
   "metadata": {},
   "source": [
    "## Кросс-валидация модели RandomForest"
   ]
  },
  {
   "cell_type": "markdown",
   "id": "21bd3a4b",
   "metadata": {},
   "source": [
    "***Берем 2 фолда, тк маленькая выборка***"
   ]
  },
  {
   "cell_type": "code",
   "execution_count": 907,
   "id": "94113cd9-6419-4ae6-be5b-b748266534b8",
   "metadata": {},
   "outputs": [
    {
     "name": "stdout",
     "output_type": "stream",
     "text": [
      "Cредняя точность (cross-validation): 0.6853\n"
     ]
    }
   ],
   "source": [
    "from sklearn.ensemble import RandomForestClassifier\n",
    "from sklearn.metrics import precision_score\n",
    "\n",
    "rf_model = RandomForestClassifier(n_estimators=200, max_depth=None, random_state=42)\n",
    "rf_model.fit(X_train_scaled, y_train)\n",
    "\n",
    "\n",
    "# кросс-валидация\n",
    "rf_cv_scores = cross_val_score(rf_model, X_train_scaled, y_train, cv=2, scoring='accuracy')\n",
    "print(f\"Cредняя точность (cross-validation): {rf_cv_scores.mean():.4f}\")\n"
   ]
  },
  {
   "cell_type": "markdown",
   "id": "dceb55dd",
   "metadata": {},
   "source": [
    "## Тестирование модели, accuracy и precision"
   ]
  },
  {
   "cell_type": "code",
   "execution_count": 908,
   "id": "d5d84ad0",
   "metadata": {},
   "outputs": [
    {
     "data": {
      "image/png": "[encoded data removed]",
      "text/plain": [
       "<Figure size 1000x500 with 1 Axes>"
      ]
     },
     "metadata": {},
     "output_type": "display_data"
    },
    {
     "name": "stdout",
     "output_type": "stream",
     "text": [
      "Accuracy: 0.7273\n",
      "Precision: 0.8556\n"
     ]
    }
   ],
   "source": [
    "# Для precision посмотрим на распределение классов\n",
    "plt.figure(figsize=(10,5))\n",
    "plt.bar(*zip(*Counter(y_train).items()), color='blue', alpha=0.7, label=\"Train\")\n",
    "plt.bar(*zip(*Counter(y_test).items()), color='red', alpha=0.5, label=\"Test\")\n",
    "plt.xlabel(\"Классы\")\n",
    "plt.ylabel(\"Частота\")\n",
    "plt.title(\"Распределение классов в train и test\")\n",
    "plt.legend()\n",
    "plt.show()\n",
    "\n",
    "# доля правильных ответов в test\n",
    "y_pred = rf_model.predict(X_test_scaled)\n",
    "acc = accuracy_score(y_test, y_pred)\n",
    "print(\"Accuracy:\", round(acc,4))\n",
    "\n",
    "# точность модели\n",
    "precision = precision_score(y_test, y_pred, average='weighted',  zero_division=1)  \n",
    "print(\"Precision:\", round(precision, 4))"
   ]
  },
  {
   "cell_type": "markdown",
   "id": "4917a5ff",
   "metadata": {},
   "source": [
    "## Итоги\n",
    "#### Анализ модели\n",
    "- Гистограмма показывает, что один класс:50 встречается гораздо чаще остальных - данные несбалансированные\n",
    "- Доля правильных ответов (Accuracy) ≈ 68% неплохо, но модель может предсказывать самый частый класс (т.е. не показывает реальную производительность)\n",
    "- Точность (Precision) ≈ 82% неплохо, однако модель не предсказывает редкие классы\n",
    "\n",
    "#### Проблемы\n",
    "- Переобучение на самый частый класс\n",
    "- Редкие классы плохо предсказываются\n",
    "- Балансировка классов (возможно расширение датасета)\n"
   ]
  }
 ],
 "metadata": {
  "kernelspec": {
   "display_name": "Python 3 (ipykernel)",
   "language": "python",
   "name": "python3"
  },
  "language_info": {
   "codemirror_mode": {
    "name": "ipython",
    "version": 3
   },
   "file_extension": ".py",
   "mimetype": "text/x-python",
   "name": "python",
   "nbconvert_exporter": "python",
   "pygments_lexer": "ipython3",
   "version": "3.12.4"
  }
 },
 "nbformat": 4,
 "nbformat_minor": 5
}
